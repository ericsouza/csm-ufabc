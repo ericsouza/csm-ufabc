{
  "nbformat": 4,
  "nbformat_minor": 0,
  "metadata": {
    "colab": {
      "provenance": []
    },
    "kernelspec": {
      "name": "python3",
      "display_name": "Python 3"
    },
    "language_info": {
      "name": "python"
    }
  },
  "cells": [
    {
      "cell_type": "code",
      "execution_count": 1,
      "metadata": {
        "id": "V42l_cR-vY3u",
        "outputId": "ef525386-c9c2-4ba9-b05a-858cd77ee530",
        "colab": {
          "base_uri": "https://localhost:8080/"
        }
      },
      "outputs": [
        {
          "output_type": "stream",
          "name": "stdout",
          "text": [
            "Testando\n"
          ]
        }
      ],
      "source": [
        "print(\"Testando\")"
      ]
    }
  ]
}