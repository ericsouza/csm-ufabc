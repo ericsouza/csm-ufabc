version https://git-lfs.github.com/spec/v1
oid sha256:50a54ddb481db4f240247be89d3ff6c5f44b02e896b49fa01f97327900a92dbe
size 156298882
